{
  "nbformat": 4,
  "nbformat_minor": 0,
  "metadata": {
    "colab": {
      "name": "CIFAR10_test_net.ipynb",
      "provenance": [],
      "collapsed_sections": [],
      "authorship_tag": "ABX9TyOPDGtUChLza6K4t4q925f1",
      "include_colab_link": true
    },
    "kernelspec": {
      "name": "python3",
      "display_name": "Python 3"
    },
    "language_info": {
      "name": "python"
    },
    "widgets": {
      "application/vnd.jupyter.widget-state+json": {
        "811d48677a134a5388154a42a4e2f222": {
          "model_module": "@jupyter-widgets/controls",
          "model_name": "HBoxModel",
          "model_module_version": "1.5.0",
          "state": {
            "_view_name": "HBoxView",
            "_dom_classes": [],
            "_model_name": "HBoxModel",
            "_view_module": "@jupyter-widgets/controls",
            "_model_module_version": "1.5.0",
            "_view_count": null,
            "_view_module_version": "1.5.0",
            "box_style": "",
            "layout": "IPY_MODEL_bb447b9213d3463cb6eec05cd7542a95",
            "_model_module": "@jupyter-widgets/controls",
            "children": [
              "IPY_MODEL_59462c825e6d45aa95cb89154e081894",
              "IPY_MODEL_3407857dcff342fe82051d4f8a86508e",
              "IPY_MODEL_6441974431a247fc9a8899dad29cb907"
            ]
          }
        },
        "bb447b9213d3463cb6eec05cd7542a95": {
          "model_module": "@jupyter-widgets/base",
          "model_name": "LayoutModel",
          "model_module_version": "1.2.0",
          "state": {
            "_view_name": "LayoutView",
            "grid_template_rows": null,
            "right": null,
            "justify_content": null,
            "_view_module": "@jupyter-widgets/base",
            "overflow": null,
            "_model_module_version": "1.2.0",
            "_view_count": null,
            "flex_flow": null,
            "width": null,
            "min_width": null,
            "border": null,
            "align_items": null,
            "bottom": null,
            "_model_module": "@jupyter-widgets/base",
            "top": null,
            "grid_column": null,
            "overflow_y": null,
            "overflow_x": null,
            "grid_auto_flow": null,
            "grid_area": null,
            "grid_template_columns": null,
            "flex": null,
            "_model_name": "LayoutModel",
            "justify_items": null,
            "grid_row": null,
            "max_height": null,
            "align_content": null,
            "visibility": null,
            "align_self": null,
            "height": null,
            "min_height": null,
            "padding": null,
            "grid_auto_rows": null,
            "grid_gap": null,
            "max_width": null,
            "order": null,
            "_view_module_version": "1.2.0",
            "grid_template_areas": null,
            "object_position": null,
            "object_fit": null,
            "grid_auto_columns": null,
            "margin": null,
            "display": null,
            "left": null
          }
        },
        "59462c825e6d45aa95cb89154e081894": {
          "model_module": "@jupyter-widgets/controls",
          "model_name": "HTMLModel",
          "model_module_version": "1.5.0",
          "state": {
            "_view_name": "HTMLView",
            "style": "IPY_MODEL_6db7c97002164e30aef4cd4fd0e5cadd",
            "_dom_classes": [],
            "description": "",
            "_model_name": "HTMLModel",
            "placeholder": "​",
            "_view_module": "@jupyter-widgets/controls",
            "_model_module_version": "1.5.0",
            "value": "",
            "_view_count": null,
            "_view_module_version": "1.5.0",
            "description_tooltip": null,
            "_model_module": "@jupyter-widgets/controls",
            "layout": "IPY_MODEL_24f6ba1751c14b05a89982fc48f41feb"
          }
        },
        "3407857dcff342fe82051d4f8a86508e": {
          "model_module": "@jupyter-widgets/controls",
          "model_name": "FloatProgressModel",
          "model_module_version": "1.5.0",
          "state": {
            "_view_name": "ProgressView",
            "style": "IPY_MODEL_45b8f756370b4f279f3ec82c7e327c9c",
            "_dom_classes": [],
            "description": "",
            "_model_name": "FloatProgressModel",
            "bar_style": "success",
            "max": 170498071,
            "_view_module": "@jupyter-widgets/controls",
            "_model_module_version": "1.5.0",
            "value": 170498071,
            "_view_count": null,
            "_view_module_version": "1.5.0",
            "orientation": "horizontal",
            "min": 0,
            "description_tooltip": null,
            "_model_module": "@jupyter-widgets/controls",
            "layout": "IPY_MODEL_84c990f43c0d4116be0013638f4d8b5f"
          }
        },
        "6441974431a247fc9a8899dad29cb907": {
          "model_module": "@jupyter-widgets/controls",
          "model_name": "HTMLModel",
          "model_module_version": "1.5.0",
          "state": {
            "_view_name": "HTMLView",
            "style": "IPY_MODEL_1eeed5a6e3b7462d8d72831dfb4e0688",
            "_dom_classes": [],
            "description": "",
            "_model_name": "HTMLModel",
            "placeholder": "​",
            "_view_module": "@jupyter-widgets/controls",
            "_model_module_version": "1.5.0",
            "value": " 170499072/? [00:06&lt;00:00, 29029537.74it/s]",
            "_view_count": null,
            "_view_module_version": "1.5.0",
            "description_tooltip": null,
            "_model_module": "@jupyter-widgets/controls",
            "layout": "IPY_MODEL_6e9418d8ac6e44a2ae9f3218e6530ed1"
          }
        },
        "6db7c97002164e30aef4cd4fd0e5cadd": {
          "model_module": "@jupyter-widgets/controls",
          "model_name": "DescriptionStyleModel",
          "model_module_version": "1.5.0",
          "state": {
            "_view_name": "StyleView",
            "_model_name": "DescriptionStyleModel",
            "description_width": "",
            "_view_module": "@jupyter-widgets/base",
            "_model_module_version": "1.5.0",
            "_view_count": null,
            "_view_module_version": "1.2.0",
            "_model_module": "@jupyter-widgets/controls"
          }
        },
        "24f6ba1751c14b05a89982fc48f41feb": {
          "model_module": "@jupyter-widgets/base",
          "model_name": "LayoutModel",
          "model_module_version": "1.2.0",
          "state": {
            "_view_name": "LayoutView",
            "grid_template_rows": null,
            "right": null,
            "justify_content": null,
            "_view_module": "@jupyter-widgets/base",
            "overflow": null,
            "_model_module_version": "1.2.0",
            "_view_count": null,
            "flex_flow": null,
            "width": null,
            "min_width": null,
            "border": null,
            "align_items": null,
            "bottom": null,
            "_model_module": "@jupyter-widgets/base",
            "top": null,
            "grid_column": null,
            "overflow_y": null,
            "overflow_x": null,
            "grid_auto_flow": null,
            "grid_area": null,
            "grid_template_columns": null,
            "flex": null,
            "_model_name": "LayoutModel",
            "justify_items": null,
            "grid_row": null,
            "max_height": null,
            "align_content": null,
            "visibility": null,
            "align_self": null,
            "height": null,
            "min_height": null,
            "padding": null,
            "grid_auto_rows": null,
            "grid_gap": null,
            "max_width": null,
            "order": null,
            "_view_module_version": "1.2.0",
            "grid_template_areas": null,
            "object_position": null,
            "object_fit": null,
            "grid_auto_columns": null,
            "margin": null,
            "display": null,
            "left": null
          }
        },
        "45b8f756370b4f279f3ec82c7e327c9c": {
          "model_module": "@jupyter-widgets/controls",
          "model_name": "ProgressStyleModel",
          "model_module_version": "1.5.0",
          "state": {
            "_view_name": "StyleView",
            "_model_name": "ProgressStyleModel",
            "description_width": "",
            "_view_module": "@jupyter-widgets/base",
            "_model_module_version": "1.5.0",
            "_view_count": null,
            "_view_module_version": "1.2.0",
            "bar_color": null,
            "_model_module": "@jupyter-widgets/controls"
          }
        },
        "84c990f43c0d4116be0013638f4d8b5f": {
          "model_module": "@jupyter-widgets/base",
          "model_name": "LayoutModel",
          "model_module_version": "1.2.0",
          "state": {
            "_view_name": "LayoutView",
            "grid_template_rows": null,
            "right": null,
            "justify_content": null,
            "_view_module": "@jupyter-widgets/base",
            "overflow": null,
            "_model_module_version": "1.2.0",
            "_view_count": null,
            "flex_flow": null,
            "width": null,
            "min_width": null,
            "border": null,
            "align_items": null,
            "bottom": null,
            "_model_module": "@jupyter-widgets/base",
            "top": null,
            "grid_column": null,
            "overflow_y": null,
            "overflow_x": null,
            "grid_auto_flow": null,
            "grid_area": null,
            "grid_template_columns": null,
            "flex": null,
            "_model_name": "LayoutModel",
            "justify_items": null,
            "grid_row": null,
            "max_height": null,
            "align_content": null,
            "visibility": null,
            "align_self": null,
            "height": null,
            "min_height": null,
            "padding": null,
            "grid_auto_rows": null,
            "grid_gap": null,
            "max_width": null,
            "order": null,
            "_view_module_version": "1.2.0",
            "grid_template_areas": null,
            "object_position": null,
            "object_fit": null,
            "grid_auto_columns": null,
            "margin": null,
            "display": null,
            "left": null
          }
        },
        "1eeed5a6e3b7462d8d72831dfb4e0688": {
          "model_module": "@jupyter-widgets/controls",
          "model_name": "DescriptionStyleModel",
          "model_module_version": "1.5.0",
          "state": {
            "_view_name": "StyleView",
            "_model_name": "DescriptionStyleModel",
            "description_width": "",
            "_view_module": "@jupyter-widgets/base",
            "_model_module_version": "1.5.0",
            "_view_count": null,
            "_view_module_version": "1.2.0",
            "_model_module": "@jupyter-widgets/controls"
          }
        },
        "6e9418d8ac6e44a2ae9f3218e6530ed1": {
          "model_module": "@jupyter-widgets/base",
          "model_name": "LayoutModel",
          "model_module_version": "1.2.0",
          "state": {
            "_view_name": "LayoutView",
            "grid_template_rows": null,
            "right": null,
            "justify_content": null,
            "_view_module": "@jupyter-widgets/base",
            "overflow": null,
            "_model_module_version": "1.2.0",
            "_view_count": null,
            "flex_flow": null,
            "width": null,
            "min_width": null,
            "border": null,
            "align_items": null,
            "bottom": null,
            "_model_module": "@jupyter-widgets/base",
            "top": null,
            "grid_column": null,
            "overflow_y": null,
            "overflow_x": null,
            "grid_auto_flow": null,
            "grid_area": null,
            "grid_template_columns": null,
            "flex": null,
            "_model_name": "LayoutModel",
            "justify_items": null,
            "grid_row": null,
            "max_height": null,
            "align_content": null,
            "visibility": null,
            "align_self": null,
            "height": null,
            "min_height": null,
            "padding": null,
            "grid_auto_rows": null,
            "grid_gap": null,
            "max_width": null,
            "order": null,
            "_view_module_version": "1.2.0",
            "grid_template_areas": null,
            "object_position": null,
            "object_fit": null,
            "grid_auto_columns": null,
            "margin": null,
            "display": null,
            "left": null
          }
        }
      }
    }
  },
  "cells": [
    {
      "cell_type": "markdown",
      "metadata": {
        "id": "view-in-github",
        "colab_type": "text"
      },
      "source": [
        "<a href=\"https://colab.research.google.com/github/shinchacoffee/CIFAR10_practice/blob/main/CIFAR10_test_net.ipynb\" target=\"_parent\"><img src=\"https://colab.research.google.com/assets/colab-badge.svg\" alt=\"Open In Colab\"/></a>"
      ]
    },
    {
      "cell_type": "code",
      "metadata": {
        "id": "1Or-gRg2GCAq"
      },
      "source": [
        "import torch\n",
        "import torchvision"
      ],
      "execution_count": 1,
      "outputs": []
    },
    {
      "cell_type": "code",
      "metadata": {
        "colab": {
          "base_uri": "https://localhost:8080/"
        },
        "id": "l8cMzeW9LCEd",
        "outputId": "f7c9c07f-9653-4adf-ceae-0a947a6d7848"
      },
      "source": [
        "random_seed=1\n",
        "train_batch_size=100\n",
        "test_batch_size=1000\n",
        "n_epochs=1\n",
        "torch.manual_seed(random_seed)"
      ],
      "execution_count": 2,
      "outputs": [
        {
          "output_type": "execute_result",
          "data": {
            "text/plain": [
              "<torch._C.Generator at 0x7f673b8a2ab0>"
            ]
          },
          "metadata": {},
          "execution_count": 2
        }
      ]
    },
    {
      "cell_type": "code",
      "metadata": {
        "colab": {
          "base_uri": "https://localhost:8080/",
          "height": 105,
          "referenced_widgets": [
            "811d48677a134a5388154a42a4e2f222",
            "bb447b9213d3463cb6eec05cd7542a95",
            "59462c825e6d45aa95cb89154e081894",
            "3407857dcff342fe82051d4f8a86508e",
            "6441974431a247fc9a8899dad29cb907",
            "6db7c97002164e30aef4cd4fd0e5cadd",
            "24f6ba1751c14b05a89982fc48f41feb",
            "45b8f756370b4f279f3ec82c7e327c9c",
            "84c990f43c0d4116be0013638f4d8b5f",
            "1eeed5a6e3b7462d8d72831dfb4e0688",
            "6e9418d8ac6e44a2ae9f3218e6530ed1"
          ]
        },
        "id": "pRfv87J3t31x",
        "outputId": "303c7ae0-e289-4732-cac3-ab15cbd3f1a9"
      },
      "source": [
        "train_norm_load = torch.utils.data.DataLoader(\n",
        "    torchvision.datasets.CIFAR10('/files/', train = True,\n",
        "                                 transform = torchvision.transforms.Compose([\n",
        "                                            torchvision.transforms.ToTensor()\n",
        "                                            ]),\n",
        "                                            download = True),\n",
        "                            batch_size=train_batch_size, shuffle = True)\n",
        "\n",
        "test_norm_load = torch.utils.data.DataLoader(\n",
        "    torchvision.datasets.CIFAR10('/files/', train = False,\n",
        "                                 transform = torchvision.transforms.Compose([\n",
        "                                            torchvision.transforms.ToTensor()\n",
        "                                            ]),\n",
        "                                            download = True),\n",
        "                            batch_size=train_batch_size, shuffle = True)"
      ],
      "execution_count": 3,
      "outputs": [
        {
          "output_type": "stream",
          "name": "stdout",
          "text": [
            "Downloading https://www.cs.toronto.edu/~kriz/cifar-10-python.tar.gz to /files/cifar-10-python.tar.gz\n"
          ]
        },
        {
          "output_type": "display_data",
          "data": {
            "application/vnd.jupyter.widget-view+json": {
              "model_id": "811d48677a134a5388154a42a4e2f222",
              "version_minor": 0,
              "version_major": 2
            },
            "text/plain": [
              "  0%|          | 0/170498071 [00:00<?, ?it/s]"
            ]
          },
          "metadata": {}
        },
        {
          "output_type": "stream",
          "name": "stdout",
          "text": [
            "Extracting /files/cifar-10-python.tar.gz to /files/\n",
            "Files already downloaded and verified\n"
          ]
        }
      ]
    },
    {
      "cell_type": "code",
      "metadata": {
        "colab": {
          "base_uri": "https://localhost:8080/"
        },
        "id": "bmeYd-gpuE8F",
        "outputId": "3e581819-0260-471d-bb73-34c203fe3e2a"
      },
      "source": [
        "RGB_sum = torch.zeros(3)\n",
        "RGB_sum_sq = torch.zeros(3)\n",
        "for x,y in train_norm_load:\n",
        "  RGB_sum += torch.mean(x, dim=(0,2,3))#*x.shape[0]\n",
        "  RGB_sum_sq += torch.mean(x*x, dim=(0,2,3))#*x.shape[0]\n",
        "RGB_mean = RGB_sum / len(train_norm_load)\n",
        "RGB_std  = (RGB_sum_sq / len(train_norm_load) - RGB_mean ** 2)**0.5\n",
        "print(RGB_mean,RGB_std)\n",
        "\n",
        "test_RGB_sum = torch.zeros(3)\n",
        "test_RGB_sum_sq = torch.zeros(3)\n",
        "for x,y in test_norm_load:\n",
        "  test_RGB_sum += torch.mean(x, dim=(0,2,3))#*x.shape[0]\n",
        "  test_RGB_sum_sq += torch.mean(x*x, dim=(0,2,3))#*x.shape[0]\n",
        "test_RGB_mean = test_RGB_sum / len(test_norm_load)\n",
        "test_RGB_std  = (test_RGB_sum_sq / len(test_norm_load) - test_RGB_mean ** 2)**0.5\n",
        "print(test_RGB_mean,test_RGB_std)"
      ],
      "execution_count": 4,
      "outputs": [
        {
          "output_type": "stream",
          "name": "stdout",
          "text": [
            "tensor([0.4914, 0.4822, 0.4465]) tensor([0.2470, 0.2435, 0.2616])\n",
            "tensor([0.4942, 0.4851, 0.4504]) tensor([0.2467, 0.2429, 0.2616])\n"
          ]
        }
      ]
    },
    {
      "cell_type": "code",
      "metadata": {
        "colab": {
          "base_uri": "https://localhost:8080/"
        },
        "id": "E9WEbV97LYQw",
        "outputId": "8835567d-04ff-41db-83bf-ec5c70e51bab"
      },
      "source": [
        "train_loader = torch.utils.data.DataLoader(\n",
        "    torchvision.datasets.CIFAR10('/files/', train = True,\n",
        "                                 transform = torchvision.transforms.Compose([\n",
        "                                            torchvision.transforms.ToTensor(),\n",
        "                                            torchvision.transforms.Normalize(\n",
        "                                                RGB_mean, RGB_std )\n",
        "                                            ]),\n",
        "                                            download = True),\n",
        "                            batch_size=train_batch_size, shuffle = True)\n",
        "\n",
        "test_loader = torch.utils.data.DataLoader(\n",
        "    torchvision.datasets.CIFAR10('/files/', train = False,\n",
        "                                 transform = torchvision.transforms.Compose([\n",
        "                                            torchvision.transforms.ToTensor(),\n",
        "                                            torchvision.transforms.Normalize(\n",
        "                                                test_RGB_mean, test_RGB_std )\n",
        "                                            ]), #why not working when without enter?\n",
        "                                            download = True),\n",
        "                            batch_size=test_batch_size, shuffle = True)"
      ],
      "execution_count": 5,
      "outputs": [
        {
          "output_type": "stream",
          "name": "stdout",
          "text": [
            "Files already downloaded and verified\n",
            "Files already downloaded and verified\n"
          ]
        }
      ]
    },
    {
      "cell_type": "code",
      "metadata": {
        "id": "9c8ViXq8Wtdy"
      },
      "source": [
        "import torch.nn\n",
        "import torch.nn.functional\n",
        "import torch.optim"
      ],
      "execution_count": 6,
      "outputs": []
    },
    {
      "cell_type": "code",
      "metadata": {
        "id": "YLO8QeVBgU4w",
        "colab": {
          "base_uri": "https://localhost:8080/"
        },
        "outputId": "194e29c7-58c2-489a-cc67-16790f267bca"
      },
      "source": [
        "class My_net(torch.nn.Module):\n",
        "  def __init__(self):\n",
        "    super().__init__()\n",
        "    self.cnum1, self.cdim1, self.cnum2, self.cdim2 = int(30), int(9), int(90), int(9)\n",
        "    self.linnum2 = int(40)\n",
        "    # 15 na 45 i dawalo 60% po 10ep (drugie okno 7? a pierwsze 5?7?)\n",
        "    # 30/7? na 90/9 i dawalo 65% po 10ep (10 min?)\n",
        "    # 50/9 na 150/7 i dawalo 67% po 10ep (20 min?)\n",
        "    # 30/9 na 300/11 i dawalo 66% po 10ep (12 min)\n",
        "    # 50/9 na 200/11 i dawalo 65% po 10 ep (17 min)\n",
        "    # 10/1 na 300/15 i dawalo 52% po 10 ep (8 min)\n",
        "    # 30/9 na 90/9 i dawalo 64% po 10ep (9 min) - lr=0.005 mom=0.9 wdec=0.001\n",
        "    # 30/9 na 90/9 i dawalo 57% po 10ep (9 min) - lr=0.01 mom=0.9 wdec=0.01\n",
        "    # 30/9 na 90/9 i dawalo 62% po 10ep (9 min) - lr=0.003 mom=0.73 wdec=0.0\n",
        "    self.conv1 = torch.nn.Conv2d(3,self.cnum1,self.cdim1)\n",
        "    self.conv2 = torch.nn.Conv2d(self.cnum1,self.cnum2,self.cdim2)\n",
        "    self.conv2drop = torch.nn.Dropout2d(p=0.5)        \n",
        "    self.skip_conv2 = torch.nn.Conv2d(3,15,13) \n",
        "    self.lin_conv_num = int( ((33 - self.cdim1) / 2 - self.cdim2 + 1) * ((33 - self.cdim1) / 2 - self.cdim2 + 1) * self.cnum2 / 4 ) \n",
        "    self.line1 = torch.nn.Linear(self.lin_conv_num,self.linnum2)\n",
        "    self.line2 = torch.nn.Linear(self.linnum2,10)\n",
        "    self.resid = torch.nn.Linear(self.lin_conv_num,10)\n",
        "    print(self.lin_conv_num)\n",
        "\n",
        "  def forward(self, signal):\n",
        "    #print(signal.shape)\n",
        "    #singal = torch.nn.BatchNorm2d(3)(signal)\n",
        "    #residconv = torch.nn.functional.max_pool2d(self.skip_conv2(signal),2)\n",
        "    #print(residconv.shape)\n",
        "    signal = torch.nn.functional.relu(torch.nn.functional.max_pool2d(self.conv1(signal),2))\n",
        "    #print(signal.shape)\n",
        "    #signal = torch.nn.BatchNorm2d(9)(signal)\n",
        "    #+residconv+residconv\n",
        "    signal = torch.nn.functional.relu(torch.nn.functional.max_pool2d(self.conv2drop(self.conv2(signal)),2))\n",
        "    #print(signal.shape)\n",
        "    signal = torch.nn.BatchNorm2d(self.cnum2)(signal)\n",
        "    signal = signal.view(signal.shape[0],-1)\n",
        "    #print(signal.shape)\n",
        "    residual = torch.nn.functional.relu(self.resid(signal))\n",
        "    signal = torch.nn.functional.relu(self.line1(signal))\n",
        "    signal = torch.nn.LayerNorm(self.linnum2)(signal)\n",
        "    signal = torch.nn.functional.dropout(signal,p=0.5)\n",
        "    #print(signal.shape)\n",
        "    #signal += residual\n",
        "    signal = torch.nn.functional.relu(self.line2(signal)+residual)#\n",
        "    #print(signal.shape)\n",
        "    return torch.nn.functional.log_softmax(signal)\n",
        "\n",
        "sieczioszka = My_net()"
      ],
      "execution_count": 71,
      "outputs": [
        {
          "output_type": "stream",
          "name": "stdout",
          "text": [
            "360\n"
          ]
        }
      ]
    },
    {
      "cell_type": "code",
      "metadata": {
        "id": "iEN-cD7WDwT2"
      },
      "source": [
        "train_losses = []\n",
        "train_counter = []\n",
        "def train(network, optimizer, epoch):\n",
        "  network.train()\n",
        "  for batch_idx, (data, target) in enumerate(train_loader):\n",
        "    optimizer.zero_grad()\n",
        "\n",
        "    #rotator = torchvision.transforms.RandomRotation(degrees=(-10, 10))\n",
        "    #data = rotator(data)\n",
        "    #prob=torch.rand(1)\n",
        "    #if prob[0] > 0.5:\n",
        "    #  data = torchvision.transforms.Grayscale(num_output_channels=3)(data)\n",
        "    my_transforms = torch.nn.ModuleList([#torchvision.transforms.ColorJitter(), #useless cause by default is zero\n",
        "                                         #torchvision.transforms.RandomGrayscale(p=0.2),\n",
        "                                         #torchvision.transforms.RandomRotation(degrees=(-10, 10)),\n",
        "                                         #torchvision.transforms.RandomPerspective(),\n",
        "                                         torchvision.transforms.RandomVerticalFlip(p=0.5)#,\n",
        "                                         #torchvision.transforms.GaussianBlur(3, sigma=(0.1, 1.0)),\n",
        "                                         ])\n",
        "    randtran = torchvision.transforms.RandomApply(transforms=my_transforms, p=0.007)\n",
        "    data = randtran(data)\n",
        "\n",
        "    output = network(data)\n",
        "    loss = torch.nn.functional.nll_loss(output, target)\n",
        "    loss.backward()\n",
        "    optimizer.step()\n",
        "    if batch_idx % 250 == 0:\n",
        "      print('Train Epoch: {} [{}/{} ({:.0f}%)]\\tLoss: {:.6f}'.format(\n",
        "        epoch, batch_idx * len(data), len(train_loader.dataset),\n",
        "        100. * batch_idx / len(train_loader), loss.item()))\n",
        "      train_losses.append(loss.item())\n",
        "      train_counter.append((batch_idx*64) + ((epoch-1)*len(train_loader.dataset)))\n"
      ],
      "execution_count": 8,
      "outputs": []
    },
    {
      "cell_type": "code",
      "metadata": {
        "id": "lKEkw2i3HnSk"
      },
      "source": [
        "test_losses = []\n",
        "test_counter = [i*len(train_loader.dataset) for i in range(n_epochs + 1)]\n",
        "def test(network):\n",
        "  network.eval()\n",
        "  test_loss = 0\n",
        "  correct = 0\n",
        "  with torch.no_grad():\n",
        "    for data, target in test_loader:\n",
        "      output = network(data)\n",
        "      test_loss += torch.nn.functional.nll_loss(output, target, size_average=False).item()\n",
        "      pred = output.data.max(1, keepdim=True)[1]\n",
        "      correct += pred.eq(target.data.view_as(pred)).sum()\n",
        "  test_loss /= len(test_loader.dataset)\n",
        "  test_losses.append(test_loss)\n",
        "  print('\\nTest set: Avg. loss: {:.4f}, Accuracy: {}/{} ({:.0f}%)\\n'.format(\n",
        "    test_loss, correct, len(test_loader.dataset),\n",
        "    100. * correct / len(test_loader.dataset)))"
      ],
      "execution_count": 9,
      "outputs": []
    },
    {
      "cell_type": "code",
      "metadata": {
        "id": "gAW4ObHxDAcs",
        "colab": {
          "base_uri": "https://localhost:8080/"
        },
        "outputId": "2daa9186-619b-4109-a288-2706a58b8f4f"
      },
      "source": [
        "network = My_net()\n",
        "learnin_rate = 0.003\n",
        "my_momentum = 0.73\n",
        "my_weight_decay = 0.0\n",
        "optimizer = torch.optim.SGD(network.parameters(), lr=learnin_rate, momentum=my_momentum, weight_decay=my_weight_decay)"
      ],
      "execution_count": 76,
      "outputs": [
        {
          "output_type": "stream",
          "name": "stdout",
          "text": [
            "360\n"
          ]
        }
      ]
    },
    {
      "cell_type": "code",
      "metadata": {
        "id": "yqPTWzpbDbKn",
        "colab": {
          "base_uri": "https://localhost:8080/",
          "height": 347
        },
        "outputId": "bc21ecb8-50af-4f0c-e20f-a2f822508b89"
      },
      "source": [
        "network(torch.rand(7,3,32,32))"
      ],
      "execution_count": 36,
      "outputs": [
        {
          "output_type": "stream",
          "name": "stdout",
          "text": [
            "torch.Size([7, 1350])\n"
          ]
        },
        {
          "output_type": "error",
          "ename": "RuntimeError",
          "evalue": "ignored",
          "traceback": [
            "\u001b[0;31m---------------------------------------------------------------------------\u001b[0m",
            "\u001b[0;31mRuntimeError\u001b[0m                              Traceback (most recent call last)",
            "\u001b[0;32m<ipython-input-36-7bacc759b141>\u001b[0m in \u001b[0;36m<module>\u001b[0;34m()\u001b[0m\n\u001b[0;32m----> 1\u001b[0;31m \u001b[0mnetwork\u001b[0m\u001b[0;34m(\u001b[0m\u001b[0mtorch\u001b[0m\u001b[0;34m.\u001b[0m\u001b[0mrand\u001b[0m\u001b[0;34m(\u001b[0m\u001b[0;36m7\u001b[0m\u001b[0;34m,\u001b[0m\u001b[0;36m3\u001b[0m\u001b[0;34m,\u001b[0m\u001b[0;36m32\u001b[0m\u001b[0;34m,\u001b[0m\u001b[0;36m32\u001b[0m\u001b[0;34m)\u001b[0m\u001b[0;34m)\u001b[0m\u001b[0;34m\u001b[0m\u001b[0;34m\u001b[0m\u001b[0m\n\u001b[0m",
            "\u001b[0;32m/usr/local/lib/python3.7/dist-packages/torch/nn/modules/module.py\u001b[0m in \u001b[0;36m_call_impl\u001b[0;34m(self, *input, **kwargs)\u001b[0m\n\u001b[1;32m   1100\u001b[0m         if not (self._backward_hooks or self._forward_hooks or self._forward_pre_hooks or _global_backward_hooks\n\u001b[1;32m   1101\u001b[0m                 or _global_forward_hooks or _global_forward_pre_hooks):\n\u001b[0;32m-> 1102\u001b[0;31m             \u001b[0;32mreturn\u001b[0m \u001b[0mforward_call\u001b[0m\u001b[0;34m(\u001b[0m\u001b[0;34m*\u001b[0m\u001b[0minput\u001b[0m\u001b[0;34m,\u001b[0m \u001b[0;34m**\u001b[0m\u001b[0mkwargs\u001b[0m\u001b[0;34m)\u001b[0m\u001b[0;34m\u001b[0m\u001b[0;34m\u001b[0m\u001b[0m\n\u001b[0m\u001b[1;32m   1103\u001b[0m         \u001b[0;31m# Do not call functions when jit is used\u001b[0m\u001b[0;34m\u001b[0m\u001b[0;34m\u001b[0m\u001b[0;34m\u001b[0m\u001b[0m\n\u001b[1;32m   1104\u001b[0m         \u001b[0mfull_backward_hooks\u001b[0m\u001b[0;34m,\u001b[0m \u001b[0mnon_full_backward_hooks\u001b[0m \u001b[0;34m=\u001b[0m \u001b[0;34m[\u001b[0m\u001b[0;34m]\u001b[0m\u001b[0;34m,\u001b[0m \u001b[0;34m[\u001b[0m\u001b[0;34m]\u001b[0m\u001b[0;34m\u001b[0m\u001b[0;34m\u001b[0m\u001b[0m\n",
            "\u001b[0;32m<ipython-input-34-8b85c716afc8>\u001b[0m in \u001b[0;36mforward\u001b[0;34m(self, signal)\u001b[0m\n\u001b[1;32m     31\u001b[0m     \u001b[0msignal\u001b[0m \u001b[0;34m=\u001b[0m \u001b[0msignal\u001b[0m\u001b[0;34m.\u001b[0m\u001b[0mview\u001b[0m\u001b[0;34m(\u001b[0m\u001b[0msignal\u001b[0m\u001b[0;34m.\u001b[0m\u001b[0mshape\u001b[0m\u001b[0;34m[\u001b[0m\u001b[0;36m0\u001b[0m\u001b[0;34m]\u001b[0m\u001b[0;34m,\u001b[0m\u001b[0;34m-\u001b[0m\u001b[0;36m1\u001b[0m\u001b[0;34m)\u001b[0m\u001b[0;34m\u001b[0m\u001b[0;34m\u001b[0m\u001b[0m\n\u001b[1;32m     32\u001b[0m     \u001b[0mprint\u001b[0m\u001b[0;34m(\u001b[0m\u001b[0msignal\u001b[0m\u001b[0;34m.\u001b[0m\u001b[0mshape\u001b[0m\u001b[0;34m)\u001b[0m\u001b[0;34m\u001b[0m\u001b[0;34m\u001b[0m\u001b[0m\n\u001b[0;32m---> 33\u001b[0;31m     \u001b[0mresidual\u001b[0m \u001b[0;34m=\u001b[0m \u001b[0mtorch\u001b[0m\u001b[0;34m.\u001b[0m\u001b[0mnn\u001b[0m\u001b[0;34m.\u001b[0m\u001b[0mfunctional\u001b[0m\u001b[0;34m.\u001b[0m\u001b[0mrelu\u001b[0m\u001b[0;34m(\u001b[0m\u001b[0mself\u001b[0m\u001b[0;34m.\u001b[0m\u001b[0mresid\u001b[0m\u001b[0;34m(\u001b[0m\u001b[0msignal\u001b[0m\u001b[0;34m)\u001b[0m\u001b[0;34m)\u001b[0m\u001b[0;34m\u001b[0m\u001b[0;34m\u001b[0m\u001b[0m\n\u001b[0m\u001b[1;32m     34\u001b[0m     \u001b[0msignal\u001b[0m \u001b[0;34m=\u001b[0m \u001b[0mtorch\u001b[0m\u001b[0;34m.\u001b[0m\u001b[0mnn\u001b[0m\u001b[0;34m.\u001b[0m\u001b[0mfunctional\u001b[0m\u001b[0;34m.\u001b[0m\u001b[0mrelu\u001b[0m\u001b[0;34m(\u001b[0m\u001b[0mself\u001b[0m\u001b[0;34m.\u001b[0m\u001b[0mline1\u001b[0m\u001b[0;34m(\u001b[0m\u001b[0msignal\u001b[0m\u001b[0;34m)\u001b[0m\u001b[0;34m)\u001b[0m\u001b[0;34m\u001b[0m\u001b[0;34m\u001b[0m\u001b[0m\n\u001b[1;32m     35\u001b[0m     \u001b[0msignal\u001b[0m \u001b[0;34m=\u001b[0m \u001b[0mtorch\u001b[0m\u001b[0;34m.\u001b[0m\u001b[0mnn\u001b[0m\u001b[0;34m.\u001b[0m\u001b[0mLayerNorm\u001b[0m\u001b[0;34m(\u001b[0m\u001b[0mself\u001b[0m\u001b[0;34m.\u001b[0m\u001b[0mlinnum2\u001b[0m\u001b[0;34m)\u001b[0m\u001b[0;34m(\u001b[0m\u001b[0msignal\u001b[0m\u001b[0;34m)\u001b[0m\u001b[0;34m\u001b[0m\u001b[0;34m\u001b[0m\u001b[0m\n",
            "\u001b[0;32m/usr/local/lib/python3.7/dist-packages/torch/nn/modules/module.py\u001b[0m in \u001b[0;36m_call_impl\u001b[0;34m(self, *input, **kwargs)\u001b[0m\n\u001b[1;32m   1100\u001b[0m         if not (self._backward_hooks or self._forward_hooks or self._forward_pre_hooks or _global_backward_hooks\n\u001b[1;32m   1101\u001b[0m                 or _global_forward_hooks or _global_forward_pre_hooks):\n\u001b[0;32m-> 1102\u001b[0;31m             \u001b[0;32mreturn\u001b[0m \u001b[0mforward_call\u001b[0m\u001b[0;34m(\u001b[0m\u001b[0;34m*\u001b[0m\u001b[0minput\u001b[0m\u001b[0;34m,\u001b[0m \u001b[0;34m**\u001b[0m\u001b[0mkwargs\u001b[0m\u001b[0;34m)\u001b[0m\u001b[0;34m\u001b[0m\u001b[0;34m\u001b[0m\u001b[0m\n\u001b[0m\u001b[1;32m   1103\u001b[0m         \u001b[0;31m# Do not call functions when jit is used\u001b[0m\u001b[0;34m\u001b[0m\u001b[0;34m\u001b[0m\u001b[0;34m\u001b[0m\u001b[0m\n\u001b[1;32m   1104\u001b[0m         \u001b[0mfull_backward_hooks\u001b[0m\u001b[0;34m,\u001b[0m \u001b[0mnon_full_backward_hooks\u001b[0m \u001b[0;34m=\u001b[0m \u001b[0;34m[\u001b[0m\u001b[0;34m]\u001b[0m\u001b[0;34m,\u001b[0m \u001b[0;34m[\u001b[0m\u001b[0;34m]\u001b[0m\u001b[0;34m\u001b[0m\u001b[0;34m\u001b[0m\u001b[0m\n",
            "\u001b[0;32m/usr/local/lib/python3.7/dist-packages/torch/nn/modules/linear.py\u001b[0m in \u001b[0;36mforward\u001b[0;34m(self, input)\u001b[0m\n\u001b[1;32m    101\u001b[0m \u001b[0;34m\u001b[0m\u001b[0m\n\u001b[1;32m    102\u001b[0m     \u001b[0;32mdef\u001b[0m \u001b[0mforward\u001b[0m\u001b[0;34m(\u001b[0m\u001b[0mself\u001b[0m\u001b[0;34m,\u001b[0m \u001b[0minput\u001b[0m\u001b[0;34m:\u001b[0m \u001b[0mTensor\u001b[0m\u001b[0;34m)\u001b[0m \u001b[0;34m->\u001b[0m \u001b[0mTensor\u001b[0m\u001b[0;34m:\u001b[0m\u001b[0;34m\u001b[0m\u001b[0;34m\u001b[0m\u001b[0m\n\u001b[0;32m--> 103\u001b[0;31m         \u001b[0;32mreturn\u001b[0m \u001b[0mF\u001b[0m\u001b[0;34m.\u001b[0m\u001b[0mlinear\u001b[0m\u001b[0;34m(\u001b[0m\u001b[0minput\u001b[0m\u001b[0;34m,\u001b[0m \u001b[0mself\u001b[0m\u001b[0;34m.\u001b[0m\u001b[0mweight\u001b[0m\u001b[0;34m,\u001b[0m \u001b[0mself\u001b[0m\u001b[0;34m.\u001b[0m\u001b[0mbias\u001b[0m\u001b[0;34m)\u001b[0m\u001b[0;34m\u001b[0m\u001b[0;34m\u001b[0m\u001b[0m\n\u001b[0m\u001b[1;32m    104\u001b[0m \u001b[0;34m\u001b[0m\u001b[0m\n\u001b[1;32m    105\u001b[0m     \u001b[0;32mdef\u001b[0m \u001b[0mextra_repr\u001b[0m\u001b[0;34m(\u001b[0m\u001b[0mself\u001b[0m\u001b[0;34m)\u001b[0m \u001b[0;34m->\u001b[0m \u001b[0mstr\u001b[0m\u001b[0;34m:\u001b[0m\u001b[0;34m\u001b[0m\u001b[0;34m\u001b[0m\u001b[0m\n",
            "\u001b[0;32m/usr/local/lib/python3.7/dist-packages/torch/nn/functional.py\u001b[0m in \u001b[0;36mlinear\u001b[0;34m(input, weight, bias)\u001b[0m\n\u001b[1;32m   1846\u001b[0m     \u001b[0;32mif\u001b[0m \u001b[0mhas_torch_function_variadic\u001b[0m\u001b[0;34m(\u001b[0m\u001b[0minput\u001b[0m\u001b[0;34m,\u001b[0m \u001b[0mweight\u001b[0m\u001b[0;34m,\u001b[0m \u001b[0mbias\u001b[0m\u001b[0;34m)\u001b[0m\u001b[0;34m:\u001b[0m\u001b[0;34m\u001b[0m\u001b[0;34m\u001b[0m\u001b[0m\n\u001b[1;32m   1847\u001b[0m         \u001b[0;32mreturn\u001b[0m \u001b[0mhandle_torch_function\u001b[0m\u001b[0;34m(\u001b[0m\u001b[0mlinear\u001b[0m\u001b[0;34m,\u001b[0m \u001b[0;34m(\u001b[0m\u001b[0minput\u001b[0m\u001b[0;34m,\u001b[0m \u001b[0mweight\u001b[0m\u001b[0;34m,\u001b[0m \u001b[0mbias\u001b[0m\u001b[0;34m)\u001b[0m\u001b[0;34m,\u001b[0m \u001b[0minput\u001b[0m\u001b[0;34m,\u001b[0m \u001b[0mweight\u001b[0m\u001b[0;34m,\u001b[0m \u001b[0mbias\u001b[0m\u001b[0;34m=\u001b[0m\u001b[0mbias\u001b[0m\u001b[0;34m)\u001b[0m\u001b[0;34m\u001b[0m\u001b[0;34m\u001b[0m\u001b[0m\n\u001b[0;32m-> 1848\u001b[0;31m     \u001b[0;32mreturn\u001b[0m \u001b[0mtorch\u001b[0m\u001b[0;34m.\u001b[0m\u001b[0m_C\u001b[0m\u001b[0;34m.\u001b[0m\u001b[0m_nn\u001b[0m\u001b[0;34m.\u001b[0m\u001b[0mlinear\u001b[0m\u001b[0;34m(\u001b[0m\u001b[0minput\u001b[0m\u001b[0;34m,\u001b[0m \u001b[0mweight\u001b[0m\u001b[0;34m,\u001b[0m \u001b[0mbias\u001b[0m\u001b[0;34m)\u001b[0m\u001b[0;34m\u001b[0m\u001b[0;34m\u001b[0m\u001b[0m\n\u001b[0m\u001b[1;32m   1849\u001b[0m \u001b[0;34m\u001b[0m\u001b[0m\n\u001b[1;32m   1850\u001b[0m \u001b[0;34m\u001b[0m\u001b[0m\n",
            "\u001b[0;31mRuntimeError\u001b[0m: mat1 and mat2 shapes cannot be multiplied (7x1350 and 31537x10)"
          ]
        }
      ]
    },
    {
      "cell_type": "code",
      "metadata": {
        "id": "hLQULNppKHA2",
        "colab": {
          "base_uri": "https://localhost:8080/"
        },
        "outputId": "6080191f-c8b0-44ed-e80e-2cf16f85e7ac"
      },
      "source": [
        "n_epochs=10\n",
        "for epoch in range(1, n_epochs+1):\n",
        "  train(network, optimizer, epoch)\n",
        "\n",
        "test(network)"
      ],
      "execution_count": 77,
      "outputs": [
        {
          "output_type": "stream",
          "name": "stderr",
          "text": [
            "/usr/local/lib/python3.7/dist-packages/ipykernel_launcher.py:45: UserWarning: Implicit dimension choice for log_softmax has been deprecated. Change the call to include dim=X as an argument.\n"
          ]
        },
        {
          "output_type": "stream",
          "name": "stdout",
          "text": [
            "Train Epoch: 1 [0/50000 (0%)]\tLoss: 2.446067\n",
            "Train Epoch: 1 [25000/50000 (50%)]\tLoss: 1.763200\n",
            "Train Epoch: 2 [0/50000 (0%)]\tLoss: 1.550665\n",
            "Train Epoch: 2 [25000/50000 (50%)]\tLoss: 1.634256\n",
            "Train Epoch: 3 [0/50000 (0%)]\tLoss: 1.707480\n",
            "Train Epoch: 3 [25000/50000 (50%)]\tLoss: 1.623995\n",
            "Train Epoch: 4 [0/50000 (0%)]\tLoss: 1.382026\n",
            "Train Epoch: 4 [25000/50000 (50%)]\tLoss: 1.503168\n",
            "Train Epoch: 5 [0/50000 (0%)]\tLoss: 1.234679\n",
            "Train Epoch: 5 [25000/50000 (50%)]\tLoss: 1.315667\n",
            "Train Epoch: 6 [0/50000 (0%)]\tLoss: 1.340116\n",
            "Train Epoch: 6 [25000/50000 (50%)]\tLoss: 1.245095\n",
            "Train Epoch: 7 [0/50000 (0%)]\tLoss: 1.071172\n",
            "Train Epoch: 7 [25000/50000 (50%)]\tLoss: 1.356428\n",
            "Train Epoch: 8 [0/50000 (0%)]\tLoss: 1.139522\n",
            "Train Epoch: 8 [25000/50000 (50%)]\tLoss: 1.402444\n",
            "Train Epoch: 9 [0/50000 (0%)]\tLoss: 1.146772\n",
            "Train Epoch: 9 [25000/50000 (50%)]\tLoss: 1.247239\n",
            "Train Epoch: 10 [0/50000 (0%)]\tLoss: 1.035042\n",
            "Train Epoch: 10 [25000/50000 (50%)]\tLoss: 1.173590\n"
          ]
        },
        {
          "output_type": "stream",
          "name": "stderr",
          "text": [
            "/usr/local/lib/python3.7/dist-packages/torch/nn/_reduction.py:42: UserWarning: size_average and reduce args will be deprecated, please use reduction='sum' instead.\n",
            "  warnings.warn(warning.format(ret))\n"
          ]
        },
        {
          "output_type": "stream",
          "name": "stdout",
          "text": [
            "\n",
            "Test set: Avg. loss: 1.0943, Accuracy: 6245/10000 (62%)\n",
            "\n"
          ]
        }
      ]
    },
    {
      "cell_type": "code",
      "metadata": {
        "colab": {
          "base_uri": "https://localhost:8080/"
        },
        "id": "8Rbs1c9jv0Wf",
        "outputId": "a155cddf-142b-46c4-dfa2-82e616376465"
      },
      "source": [
        "n_epochs=10\n",
        "for epoch in range(1, n_epochs+1):\n",
        "  train(network, optimizer, epoch)\n",
        "\n",
        "test(network)"
      ],
      "execution_count": null,
      "outputs": [
        {
          "output_type": "stream",
          "name": "stderr",
          "text": [
            "/usr/local/lib/python3.7/dist-packages/ipykernel_launcher.py:34: UserWarning: Implicit dimension choice for log_softmax has been deprecated. Change the call to include dim=X as an argument.\n"
          ]
        },
        {
          "output_type": "stream",
          "name": "stdout",
          "text": [
            "Train Epoch: 1 [0/50000 (0%)]\tLoss: 1.016146\n",
            "Train Epoch: 1 [25000/50000 (50%)]\tLoss: 1.125848\n",
            "Train Epoch: 2 [0/50000 (0%)]\tLoss: 1.079475\n",
            "Train Epoch: 2 [25000/50000 (50%)]\tLoss: 1.025132\n",
            "Train Epoch: 3 [0/50000 (0%)]\tLoss: 1.043578\n",
            "Train Epoch: 3 [25000/50000 (50%)]\tLoss: 1.367377\n",
            "Train Epoch: 4 [0/50000 (0%)]\tLoss: 1.067210\n",
            "Train Epoch: 4 [25000/50000 (50%)]\tLoss: 1.111030\n",
            "Train Epoch: 5 [0/50000 (0%)]\tLoss: 0.949393\n",
            "Train Epoch: 5 [25000/50000 (50%)]\tLoss: 1.167679\n",
            "Train Epoch: 6 [0/50000 (0%)]\tLoss: 1.119221\n",
            "Train Epoch: 6 [25000/50000 (50%)]\tLoss: 0.937928\n",
            "Train Epoch: 7 [0/50000 (0%)]\tLoss: 0.916493\n",
            "Train Epoch: 7 [25000/50000 (50%)]\tLoss: 1.054989\n",
            "Train Epoch: 8 [0/50000 (0%)]\tLoss: 0.854970\n",
            "Train Epoch: 8 [25000/50000 (50%)]\tLoss: 1.086734\n",
            "Train Epoch: 9 [0/50000 (0%)]\tLoss: 1.003292\n",
            "Train Epoch: 9 [25000/50000 (50%)]\tLoss: 1.139560\n",
            "Train Epoch: 10 [0/50000 (0%)]\tLoss: 1.032081\n",
            "Train Epoch: 10 [25000/50000 (50%)]\tLoss: 1.033481\n"
          ]
        },
        {
          "output_type": "stream",
          "name": "stderr",
          "text": [
            "/usr/local/lib/python3.7/dist-packages/torch/nn/_reduction.py:42: UserWarning: size_average and reduce args will be deprecated, please use reduction='sum' instead.\n",
            "  warnings.warn(warning.format(ret))\n"
          ]
        },
        {
          "output_type": "stream",
          "name": "stdout",
          "text": [
            "\n",
            "Test set: Avg. loss: 0.9565, Accuracy: 6798/10000 (68%)\n",
            "\n"
          ]
        }
      ]
    },
    {
      "cell_type": "code",
      "metadata": {
        "id": "-CWk4IeZFvML"
      },
      "source": [
        ""
      ],
      "execution_count": null,
      "outputs": []
    }
  ]
}