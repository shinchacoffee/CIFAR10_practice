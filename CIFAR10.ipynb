{
  "nbformat": 4,
  "nbformat_minor": 0,
  "metadata": {
    "colab": {
      "name": "CIFAR10.ipynb",
      "provenance": [],
      "collapsed_sections": [],
      "authorship_tag": "ABX9TyP4vYHpmxcSd/oRQXKyOrS3",
      "include_colab_link": true
    },
    "kernelspec": {
      "name": "python3",
      "display_name": "Python 3"
    },
    "language_info": {
      "name": "python"
    }
  },
  "cells": [
    {
      "cell_type": "markdown",
      "metadata": {
        "id": "view-in-github",
        "colab_type": "text"
      },
      "source": [
        "<a href=\"https://colab.research.google.com/github/shinchacoffee/CIFAR10_practice/blob/main/CIFAR10.ipynb\" target=\"_parent\"><img src=\"https://colab.research.google.com/assets/colab-badge.svg\" alt=\"Open In Colab\"/></a>"
      ]
    },
    {
      "cell_type": "code",
      "metadata": {
        "id": "1Or-gRg2GCAq"
      },
      "source": [
        "import torch\n",
        "import torchvision"
      ],
      "execution_count": 1,
      "outputs": []
    },
    {
      "cell_type": "code",
      "metadata": {
        "colab": {
          "base_uri": "https://localhost:8080/"
        },
        "id": "l8cMzeW9LCEd",
        "outputId": "6d8c939b-cd5c-4b29-8d9c-417e5f27d6e9"
      },
      "source": [
        "random_seed=1\n",
        "train_batch_size=100\n",
        "test_batch_size=1000\n",
        "torch.manual_seed(random_seed)"
      ],
      "execution_count": 12,
      "outputs": [
        {
          "output_type": "execute_result",
          "data": {
            "text/plain": [
              "<torch._C.Generator at 0x7f1c0c051270>"
            ]
          },
          "metadata": {},
          "execution_count": 12
        }
      ]
    },
    {
      "cell_type": "code",
      "metadata": {
        "colab": {
          "base_uri": "https://localhost:8080/"
        },
        "id": "pRfv87J3t31x",
        "outputId": "9a57ae3f-aff8-483b-fb2d-a7d35add51d9"
      },
      "source": [
        "train_norm_load = torch.utils.data.DataLoader(\n",
        "    torchvision.datasets.CIFAR10('/files/', train = True,\n",
        "                                 transform = torchvision.transforms.Compose([\n",
        "                                            torchvision.transforms.ToTensor()\n",
        "                                            ]),\n",
        "                                            download = True),\n",
        "                            batch_size=train_batch_size, shuffle = True)"
      ],
      "execution_count": 78,
      "outputs": [
        {
          "output_type": "stream",
          "name": "stdout",
          "text": [
            "Files already downloaded and verified\n"
          ]
        }
      ]
    },
    {
      "cell_type": "code",
      "metadata": {
        "colab": {
          "base_uri": "https://localhost:8080/"
        },
        "id": "bmeYd-gpuE8F",
        "outputId": "8a61db40-6039-48bb-94c1-22b69770cabb"
      },
      "source": [
        "RGB_sum = torch.zeros(3)\n",
        "RGB_sum_sq = torch.zeros(3)\n",
        "for x,y in train_norm_load:\n",
        "  RGB_sum += torch.mean(x, dim=(0,2,3))#*x.shape[0]\n",
        "  RGB_sum_sq += torch.mean(x*x, dim=(0,2,3))#*x.shape[0]\n",
        "RGB_mean = RGB_sum / len(train_norm_load)\n",
        "RGB_std  = (RGB_sum_sq / len(train_norm_load) - RGB_mean ** 2)**0.5\n",
        "print(RGB_mean,RGB_std)"
      ],
      "execution_count": 79,
      "outputs": [
        {
          "output_type": "stream",
          "name": "stdout",
          "text": [
            "tensor([0.4914, 0.4822, 0.4465]) tensor([0.2470, 0.2435, 0.2616])\n"
          ]
        }
      ]
    },
    {
      "cell_type": "code",
      "metadata": {
        "colab": {
          "base_uri": "https://localhost:8080/"
        },
        "id": "E9WEbV97LYQw",
        "outputId": "1204fa8b-8f31-4c8f-c82c-5a03e02f66af"
      },
      "source": [
        "\n",
        "\n",
        "train_loader = torch.utils.data.DataLoader(\n",
        "    torchvision.datasets.CIFAR10('/files/', train = True,\n",
        "                                 transform = torchvision.transforms.Compose([\n",
        "                                            torchvision.transforms.ToTensor(),\n",
        "                                            torchvision.transforms.Normalize(\n",
        "                                                RGB_mean, RGB_std )\n",
        "                                            ]),\n",
        "                                            download = True),\n",
        "                            batch_size=train_batch_size, shuffle = True)\n",
        "\n",
        "test_loader = torch.utils.data.DataLoader(\n",
        "    torchvision.datasets.CIFAR10('/files/', train = False,\n",
        "                                 transform = torchvision.transforms.Compose([\n",
        "                                            torchvision.transforms.ToTensor(),\n",
        "                                            torchvision.transforms.Normalize(\n",
        "                                                (0.5, 0.5, 0.5), (0.2, 0.2, 0.2) )\n",
        "                                            ]), #why not working when without enter?\n",
        "                                            download = True),\n",
        "                            batch_size=test_batch_size, shuffle = True)"
      ],
      "execution_count": 80,
      "outputs": [
        {
          "output_type": "stream",
          "name": "stdout",
          "text": [
            "Files already downloaded and verified\n",
            "Files already downloaded and verified\n"
          ]
        }
      ]
    },
    {
      "cell_type": "code",
      "metadata": {
        "colab": {
          "base_uri": "https://localhost:8080/"
        },
        "id": "KEI-6lKTgwpZ",
        "outputId": "6e50c18c-42a7-45ce-a1d5-975636dfa815"
      },
      "source": [
        "RGB_sum = torch.zeros(3)\n",
        "RGB_sum_sq = torch.zeros(3)\n",
        "for x,y in train_loader:\n",
        "  RGB_sum += torch.mean(x, dim=(0,2,3))#*x.shape[0]\n",
        "  RGB_sum_sq += torch.mean(x*x, dim=(0,2,3))#*x.shape[0]\n",
        "RGB_mean = RGB_sum / len(train_loader)\n",
        "RGB_std  = (RGB_sum_sq / len(train_loader) - RGB_mean ** 2)**0.5\n",
        "print(RGB_mean,RGB_std)"
      ],
      "execution_count": 81,
      "outputs": [
        {
          "output_type": "stream",
          "name": "stdout",
          "text": [
            "tensor([-7.9209e-07, -1.4861e-06, -7.4609e-07]) tensor([1.0000, 1.0000, 1.0000])\n"
          ]
        }
      ]
    },
    {
      "cell_type": "code",
      "metadata": {
        "colab": {
          "base_uri": "https://localhost:8080/",
          "height": 1000
        },
        "id": "aQD7sbFPUIPu",
        "outputId": "0b9d16f6-b1e1-4462-e4d1-bf3df7fcad79"
      },
      "source": [
        "import matplotlib.pyplot as plt\n",
        "fig=plt.figure()\n",
        "train.loader\n",
        "for x,y in train_loader:\n",
        "  xx=torch.movedim(x[0], (0,1,2), (2,0,1))\n",
        "  print(xx)\n",
        "  plt.imshow(xx)\n",
        "  break"
      ],
      "execution_count": 45,
      "outputs": [
        {
          "output_type": "stream",
          "name": "stderr",
          "text": [
            "Clipping input data to the valid range for imshow with RGB data ([0..1] for floats or [0..255] for integers).\n"
          ]
        },
        {
          "output_type": "stream",
          "name": "stdout",
          "text": [
            "tensor([[[-0.1863, -0.1078, -0.1275],\n",
            "         [-0.2255, -0.1471, -0.1667],\n",
            "         [-0.2255, -0.1471, -0.1667],\n",
            "         ...,\n",
            "         [-1.5784, -1.5588, -1.6569],\n",
            "         [-1.6765, -1.6569, -1.7549],\n",
            "         [-1.7157, -1.6961, -1.8137]],\n",
            "\n",
            "        [[-0.1471, -0.0686, -0.0882],\n",
            "         [-0.1863, -0.1078, -0.1275],\n",
            "         [-0.1863, -0.1078, -0.1275],\n",
            "         ...,\n",
            "         [-1.5588, -1.5392, -1.6373],\n",
            "         [-1.6373, -1.6176, -1.7157],\n",
            "         [-1.6569, -1.6373, -1.7549]],\n",
            "\n",
            "        [[-0.0882, -0.0098, -0.0294],\n",
            "         [-0.1078, -0.0294, -0.0490],\n",
            "         [-0.1275, -0.0490, -0.0686],\n",
            "         ...,\n",
            "         [-1.5000, -1.4804, -1.5784],\n",
            "         [-1.5980, -1.5784, -1.6765],\n",
            "         [-1.6176, -1.5980, -1.7157]],\n",
            "\n",
            "        ...,\n",
            "\n",
            "        [[ 0.4020,  0.5000,  0.7157],\n",
            "         [ 0.4216,  0.5000,  0.7157],\n",
            "         [ 0.4608,  0.5392,  0.7549],\n",
            "         ...,\n",
            "         [ 0.4804,  0.6373,  0.8725],\n",
            "         [ 0.3235,  0.4804,  0.7549],\n",
            "         [ 0.1667,  0.3627,  0.6569]],\n",
            "\n",
            "        [[ 0.5000,  0.5784,  0.8137],\n",
            "         [ 0.5000,  0.5784,  0.8137],\n",
            "         [ 0.5588,  0.6373,  0.8725],\n",
            "         ...,\n",
            "         [ 0.3627,  0.5000,  0.8137],\n",
            "         [ 0.2255,  0.3627,  0.6765],\n",
            "         [ 0.0294,  0.1667,  0.4804]],\n",
            "\n",
            "        [[ 0.5980,  0.6765,  0.9118],\n",
            "         [ 0.6176,  0.6961,  0.9314],\n",
            "         [ 0.6569,  0.7353,  0.9706],\n",
            "         ...,\n",
            "         [ 0.1863,  0.3235,  0.6373],\n",
            "         [ 0.0098,  0.1471,  0.4608],\n",
            "         [-0.1275,  0.0098,  0.3431]]])\n"
          ]
        },
        {
          "output_type": "display_data",
          "data": {
            "image/png": "[encoded data removed]",
            "text/plain": [
              "<Figure size 432x288 with 1 Axes>"
            ]
          },
          "metadata": {
            "needs_background": "light"
          }
        }
      ]
    },
    {
      "cell_type": "code",
      "metadata": {
        "id": "9c8ViXq8Wtdy"
      },
      "source": [
        ""
      ],
      "execution_count": null,
      "outputs": []
    }
  ]
}